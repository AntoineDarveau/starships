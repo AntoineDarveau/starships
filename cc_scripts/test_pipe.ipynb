{
 "cells": [
  {
   "cell_type": "markdown",
   "id": "57fc75e4",
   "metadata": {},
   "source": [
    "## testing functionalized pipeline"
   ]
  },
  {
   "cell_type": "code",
   "execution_count": 1,
   "id": "0a053fc9",
   "metadata": {},
   "outputs": [],
   "source": [
    "import numpy as np\n",
    "import yaml, os\n",
    "from sys import path\n",
    "from pathlib import Path\n",
    "import matplotlib.pyplot as plt\n",
    "import astropy.units as u\n",
    "import astropy.constants as const\n",
    "from starships.instruments import load_instrum\n",
    "\n",
    "path.append(\"opereira/starships/cc_scripts/\")\n",
    "\n",
    "import cc_scripts.reduction as red\n",
    "import cc_scripts.make_model as mod\n",
    "import cc_scripts.correlations as corr\n",
    "\n",
    "from starships.correlation import quick_correl\n",
    "from starships.correlation_class import Correlations\n",
    "\n",
    "import warnings\n",
    "warnings.simplefilter(\"ignore\", UserWarning)\n",
    "warnings.simplefilter(\"ignore\", RuntimeWarning)"
   ]
  },
  {
   "cell_type": "code",
   "execution_count": 2,
   "id": "167a9419",
   "metadata": {
    "tags": []
   },
   "outputs": [
    {
     "name": "stderr",
     "output_type": "stream",
     "text": [
      "INFO:starships.planet_obs:Getting WASP-127 b from ExoFile\n",
      "INFO:starships.planet_obs:Fetching the uncorrected spectra\n",
      "INFO:starships.planet_obs:File: list_e2ds\n"
     ]
    },
    {
     "name": "stdout",
     "output_type": "stream",
     "text": [
      "Changing M_star from [2.14748266e+30] kg to 1.8889893771631484e+30 kg\n",
      "It became [1.88898938e+30] kg\n",
      "Changing R_star from [9.67023e+08] m to 927368100.0 m\n",
      "It became [9.273681e+08] m\n",
      "Changing M_pl from [3.12621121e+26] kg to 3.131905585604484e+26 kg\n",
      "It became [3.13190559e+26] kg\n",
      "Changing R_pl from [93726012.] m to 93726012.0 m\n",
      "It became [93726012.] m\n",
      "Changing RV_sys from [0.] km / s to -8.86 km / s\n",
      "It became [-8.86] km / s\n",
      "Changing mid_tr from [2458385.175527] d to 2459575.9239004 d\n",
      "It became [2459575.9239004] d\n",
      "Changing t_peri from [2458385.175527] d to 2459575.9239004 d\n",
      "It became [2459575.9239004] d\n",
      "Changing trandur from [15670.368] s to 4.3529 h\n",
      "It became [15670.44] s\n",
      "Changing period from [360984.827232] s to 4.1780625 d\n",
      "It became [360984.6] s\n",
      "Changing excent from 0.0 to 0.0\n",
      "It became 0.0\n",
      "Changing incl from [1.5393804] rad to 87.84 deg\n",
      "It became [1.53309721] rad\n",
      "Changing Teff from [5620.] K to 5842\n",
      "It became [5842.] K\n",
      "Changing Tp from [1400.] K to 1400.0 K\n",
      "It became [1400.] K\n",
      "Changing w from [4.71238898] rad to -90.0 deg\n",
      "It became [-1.57079633] rad\n",
      "Changing ap from [7.24053694e+09] m to 0.0484 AU\n",
      "It became [7.24053694e+09] m\n"
     ]
    },
    {
     "name": "stderr",
     "output_type": "stream",
     "text": [
      "INFO:starships.planet_obs:Fetching data\n",
      "INFO:starships.planet_obs:File: list_tellu_corrected\n",
      "INFO:starships.planet_obs:Fetching the tellurics\n",
      "INFO:starships.planet_obs:File: list_tellu_recon\n"
     ]
    }
   ],
   "source": [
    "# import cc_scripts.run_pipe as run\n",
    "from importlib import reload\n",
    "\n",
    "# reload(run)\n",
    "# reload(red)\n",
    "# reload(mod)\n",
    "# reload(corr)\n",
    "\n",
    "config_filepath = 'config.yaml'\n",
    "model_filepath = 'model_config.yaml'\n",
    "\n",
    "with open(config_filepath, 'r') as file:\n",
    "    config_dict = yaml.safe_load(file)\n",
    "\n",
    "# unpack the model input parameters\n",
    "with open(model_filepath, 'r') as file:\n",
    "    config_model = yaml.safe_load(file)\n",
    "\n",
    "# config_dict['obs_dir'] = Path.home() / Path(config_dict['obs_dir'])\n",
    "\n",
    "# creating the planet and observation objects\n",
    "# planet, obs = red.load_planet(config_dict)\n",
    "\n",
    "# out_dir, path_fig = red.set_save_location(planet.name, config_dict['reduction'], config_dict['instrument'])\n",
    "\n",
    "# # making the model\n",
    "# wave_mod, mod_spec = run.make_model(config_dict, config_model, planet, out_dir, path_fig)\n",
    "\n",
    "# # performing the reduction for each n_pc, mask_tellu, mask_wings and the corrlations\n",
    "# for n_pc in config_dict['n_pc']:\n",
    "#     for mask_tellu in config_dict['mask_tellu']:\n",
    "#         for mask_wings in config_dict['mask_wings']:\n",
    "\n",
    "#             # reducing the data\n",
    "#             transit = run.reduce_data(config_dict, n_pc, mask_tellu, mask_wings, planet, obs, out_dir, path_fig)\n",
    "\n",
    "#             # performing correlations\n",
    "#             ccf_obj, logl_obj = run.perform_correlations(config_dict, transit['1'], wave_mod, mod_spec, obs, path_fig)\n",
    "            \n",
    "#             # ttest map\n",
    "#             ccf_obj.ttest_map(transit['1'], kind='logl', vrp=np.zeros_like(obs.vrp), orders=np.arange(75), \n",
    "#                   kp0=0, RV_limit=config_dict['RV_lim'], kp_step=config_dict['Kp_step'], \n",
    "#                   rv_step=config_dict['RV_step'], RV=None, speed_limit=3, icorr=obs.iIn, path_fig = str(path_fig))"
   ]
  },
  {
   "cell_type": "code",
   "execution_count": null,
   "id": "2c5ec756-fc8c-4a0b-8338-4de3841fc54b",
   "metadata": {},
   "outputs": [],
   "source": []
  }
 ],
 "metadata": {
  "kernelspec": {
   "display_name": "star_kernel",
   "language": "python",
   "name": "star_kernel"
  },
  "language_info": {
   "codemirror_mode": {
    "name": "ipython",
    "version": 3
   },
   "file_extension": ".py",
   "mimetype": "text/x-python",
   "name": "python",
   "nbconvert_exporter": "python",
   "pygments_lexer": "ipython3",
   "version": "3.11.5"
  }
 },
 "nbformat": 4,
 "nbformat_minor": 5
}
