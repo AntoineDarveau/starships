{
 "cells": [
  {
   "cell_type": "markdown",
   "id": "57fc75e4",
   "metadata": {},
   "source": [
    "## testing functionalized pipeline"
   ]
  },
  {
   "cell_type": "code",
   "execution_count": 8,
   "id": "0a053fc9",
   "metadata": {},
   "outputs": [],
   "source": [
    "import numpy as np\n",
    "import yaml, os\n",
    "from sys import path\n",
    "from pathlib import Path\n",
    "import matplotlib.pyplot as plt\n",
    "import astropy.units as u\n",
    "import astropy.constants as const\n",
    "from starships.instruments import load_instrum\n",
    "\n",
    "path.append(\"opereira/starships/cc_scripts/\")\n",
    "\n",
    "import cc_scripts.reduction as red\n",
    "import cc_scripts.make_model as mod\n",
    "import cc_scripts.correlations as corr\n",
    "\n",
    "from starships.correlation import quick_correl\n",
    "from starships.correlation_class import Correlations\n",
    "\n",
    "import warnings\n",
    "warnings.simplefilter(\"ignore\", UserWarning)\n",
    "warnings.simplefilter(\"ignore\", RuntimeWarning)"
   ]
  },
  {
   "cell_type": "code",
   "execution_count": 11,
   "id": "167a9419",
   "metadata": {
    "tags": []
   },
   "outputs": [
    {
     "ename": "SyntaxError",
     "evalue": "invalid syntax (2529014407.py, line 55)",
     "output_type": "error",
     "traceback": [
      "\u001b[0;36m  Cell \u001b[0;32mIn[11], line 55\u001b[0;36m\u001b[0m\n\u001b[0;31m    performing the reduction for each n_pc, mask_tellu, mask_wings\u001b[0m\n\u001b[0m               ^\u001b[0m\n\u001b[0;31mSyntaxError\u001b[0m\u001b[0;31m:\u001b[0m invalid syntax\n"
     ]
    }
   ],
   "source": [
    "import cc_scripts.run_pipe as run\n",
    "from importlib import reload\n",
    "\n",
    "reload(run)\n",
    "reload(red)\n",
    "reload(mod)\n",
    "reload(corr)\n",
    "\n",
    "config_filepath = 'config.yaml'\n",
    "model_filepath = 'model_config.yaml'\n",
    "\n",
    "import numpy as np\n",
    "import yaml, os\n",
    "from sys import path\n",
    "from pathlib import Path\n",
    "import matplotlib.pyplot as plt\n",
    "import astropy.units as u\n",
    "import astropy.constants as const\n",
    "\n",
    "path.append(\"opereira/starships/cc_scripts/\")\n",
    "\n",
    "import cc_scripts.reduction as red\n",
    "import cc_scripts.make_model as mod\n",
    "import cc_scripts.correlations as corr\n",
    "\n",
    "from starships.correlation import quick_correl\n",
    "from starships.correlation_class import Correlations\n",
    "from starships.instruments import load_instrum\n",
    "\n",
    "\n",
    "## running the pipeline\n",
    "# unpack input parameters into config dictionary\n",
    "with open(config_filepath, 'r') as file:\n",
    "    config_dict = yaml.safe_load(file)\n",
    "\n",
    "# unpack the model input parameters\n",
    "with open(model_filepath, 'r') as file:\n",
    "    config_model = yaml.safe_load(file)\n",
    "\n",
    "config_dict['obs_dir'] = Path.home() / Path(config_dict['obs_dir'])\n",
    "\n",
    "# creating the planet and observation objects\n",
    "planet, obs = red.load_planet(config_dict)\n",
    "\n",
    "out_dir, path_fig = red.set_save_location(planet.name, config_dict['reduction'], config_dict['instrument'])\n",
    "\n",
    "# making the model\n",
    "wave_mod, mod_spec = run.make_model(config_dict, config_model, planet, out_dir, path_fig)\n",
    "\n",
    "# creating the dictionaries to store all reductions\n",
    "all_reductions = {}\n",
    "all_ccf_map = {}\n",
    "all_logl_map = {}\n",
    "\n",
    "# performing the reduction for each n_pc, mask_tellu, mask_wings\n",
    "for mask_tellu in config_dict['mask_tellu']:\n",
    "    for mask_wings in config_dict['mask_wings']:\n",
    "        for n_pc in config_dict['n_pc']:\n",
    "            # reducing the data\n",
    "            reduc = reduce_data(config_dict, n_pc, mask_tellu, mask_wings, planet, obs, out_dir, path_fig)\n",
    "            all_reductions[(n_pc, mask_tellu, mask_wings)] = reduc\n",
    "\n",
    "            # performing correlations\n",
    "            ccf_map, logl_map = perform_correlations(config_dict, reduc['1'], wave_mod, mod_spec, n_pc, path_fig)\n",
    "            all_ccf_map[(n_pc, mask_tellu, mask_wings)] = ccf_map\n",
    "            all_logl_map[(n_pc, mask_tellu, mask_wings)] = logl_map\n",
    "\n",
    "            # plot ttest map\n",
    "\n",
    "        # plot all ccf maps\n",
    "        # plotting ccf figures and ttest map\n"
   ]
  },
  {
   "cell_type": "code",
   "execution_count": null,
   "id": "2c5ec756-fc8c-4a0b-8338-4de3841fc54b",
   "metadata": {},
   "outputs": [],
   "source": []
  }
 ],
 "metadata": {
  "kernelspec": {
   "display_name": "star_kernel",
   "language": "python",
   "name": "star_kernel"
  },
  "language_info": {
   "codemirror_mode": {
    "name": "ipython",
    "version": 3
   },
   "file_extension": ".py",
   "mimetype": "text/x-python",
   "name": "python",
   "nbconvert_exporter": "python",
   "pygments_lexer": "ipython3",
   "version": "3.11.5"
  }
 },
 "nbformat": 4,
 "nbformat_minor": 5
}
